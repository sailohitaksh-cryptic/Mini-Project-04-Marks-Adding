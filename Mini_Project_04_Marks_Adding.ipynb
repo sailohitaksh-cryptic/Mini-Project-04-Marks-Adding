{
  "nbformat": 4,
  "nbformat_minor": 0,
  "metadata": {
    "colab": {
      "provenance": [],
      "authorship_tag": "ABX9TyN+xSsgI43+1tPB2X19zcOP",
      "include_colab_link": true
    },
    "kernelspec": {
      "name": "python3",
      "display_name": "Python 3"
    },
    "language_info": {
      "name": "python"
    }
  },
  "cells": [
    {
      "cell_type": "markdown",
      "metadata": {
        "id": "view-in-github",
        "colab_type": "text"
      },
      "source": [
        "<a href=\"https://colab.research.google.com/github/sailohitaksh-cryptic/Mini-Project-04-Marks-Adding/blob/main/Mini_Project_04_Marks_Adding.ipynb\" target=\"_parent\"><img src=\"https://colab.research.google.com/assets/colab-badge.svg\" alt=\"Open In Colab\"/></a>"
      ]
    },
    {
      "cell_type": "code",
      "execution_count": 11,
      "metadata": {
        "id": "adNsldmI1Pa1"
      },
      "outputs": [],
      "source": [
        "import pandas as pd\n",
        "\n",
        "def calculate_total_marks(input_file, output_file):\n",
        "    # Read the input file into a DataFrame, skipping the first row (header)\n",
        "    df = pd.read_csv(input_file, skiprows=0)\n",
        "    \n",
        "    # Group the data by Roll Number and calculate the sum of Marks\n",
        "    total_marks_df = df.groupby('Roll Num')['Marks'].sum().reset_index()\n",
        "    \n",
        "    # Save the result to the output file\n",
        "    total_marks_df.to_csv(output_file, index=False)\n",
        "\n",
        "input_file = '/content/marksadding.csv'  # Replace with the path to your input file\n",
        "output_file = 'output.csv'  # Replace with the desired path for the output file\n",
        "\n",
        "calculate_total_marks(input_file, output_file)\n"
      ]
    },
    {
      "cell_type": "code",
      "source": [],
      "metadata": {
        "id": "e7MVf7vg4y-0"
      },
      "execution_count": null,
      "outputs": []
    }
  ]
}